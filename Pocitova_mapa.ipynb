{
 "cells": [
  {
   "cell_type": "code",
   "execution_count": 1,
   "metadata": {},
   "outputs": [],
   "source": [
    "import folium\n",
    "from folium import plugins"
   ]
  },
  {
   "cell_type": "code",
   "execution_count": 2,
   "metadata": {},
   "outputs": [],
   "source": [
    "# Locations\n",
    "\n",
    "locations = {\n",
    "    \"gymnazium\": [(50.0749897, 15.9844858)],\n",
    "    \"nadrazi\": [(50.0687925, 15.9863983)],\n",
    "    \"ulicka_smrti\": [(50.0682975, 15.9867281), (50.0684669, 15.9867819), (50.0686478, 15.9867603)],\n",
    "    \"lidl\": [(50.0729164, 15.9819406)],\n",
    "    \"zemanek\": [(50.0709867, 15.9890411)],\n",
    "    \"zid_hrbitov\": [(50.0628383, 15.9884611)],\n",
    "    \"komercka\": [(50.0677692, 15.9866350), (50.0678983, 15.9859644), (50.0678503, 15.9862728)],\n",
    "    \"albert\": [(50.0674197, 15.9878553)],\n",
    "    \"kostel\": [(50.0684475, 15.9855917)],\n",
    "    \"park_skola\": [(50.0704839, 15.9888958)],\n",
    "    \"puskinova\": [(50.0688500, 15.9931347), (50.0694422, 15.9932956), (50.0701033, 15.9934781)],\n",
    "    \"palackeho\": [(50.0670022, 15.9886647), (50.0673017, 15.9889008), (50.0675428, 15.9892011), \n",
    "                  (50.0677494, 15.9894694), (50.0679767, 15.9895875), (50.0680592, 15.9899200), (50.0680247, 15.9901722)],\n",
    "    \"jozefska\": [(50.0679147, 15.9901936), (50.0677700, 15.9902581), (50.0676667, 15.9904350), (50.0675564, 15.9907300), \n",
    "                 (50.0674911, 15.9909875), (50.0673911, 15.9914381), (50.0673053, 15.9921678), (50.0673258, 15.9927256)],\n",
    "    \"namesti\": [(50.0673892, 15.9869533)],\n",
    "    \"penny\": [(50.0735200, 15.9832278)],\n",
    "    \"quanto\": [(50.068851, 15.9872742)],\n",
    "    \"povetrnik\": [(50.0665331, 15.9799683), (50.0668653, 15.9793300), (50.0670272, 15.9786219)],\n",
    "    \"mototechna\": [(50.0681739, 15.9881142)],\n",
    "    \"vlak\": [(50.0692772, 15.9927061)],\n",
    "    \"stadion\": [(50.0745314, 15.9918478)],\n",
    "    \"staroholicka\": [(50.0687942, 16.0004731)],\n",
    "    \"park_na_roven\": [(50.0634658, 15.9836697)]\n",
    "}"
   ]
  },
  {
   "cell_type": "code",
   "execution_count": 3,
   "metadata": {},
   "outputs": [],
   "source": [
    "## Records\n",
    "\n",
    "nebezpeci = [\"ulicka_smrti\", \"gymnazium\", \"nadrazi\", \"ulicka_smrti\", \"povetrnik\", \"povetrnik\", \"puskinova\", \"vlak\"]\n",
    "oprava = [\"ulicka_smrti\", \"komercka\", \"ulicka_smrti\", \"puskinova\", \"palackeho\", \"jozefska\", \"povetrnik\", \"povetrnik\"]\n",
    "nakupy = [\"lidl\", \"albert\", \"albert\", \"albert\", \"lidl\", \"penny\", \"quanto\", \"lidl\", \"lidl\", \"penny\", \"mototechna\"]\n",
    "volny_cas = [\"zemanek\", \"zid_hrbitov\", \"kostel\", \"park_skola\", \"namesti\", \"mototechna\", \"stadion\", \"staroholicka\", \"namesti\", \"park_skola\", \"staroholicka\", \"park_na_roven\"]"
   ]
  },
  {
   "cell_type": "code",
   "execution_count": 4,
   "metadata": {},
   "outputs": [],
   "source": [
    "# Making the heatmaps\n",
    "nebezpeci_data = []\n",
    "for name in nebezpeci:\n",
    "    for pos in locations[name]:\n",
    "        nebezpeci_data.append(pos)\n",
    "nebezpeci_heat_map = plugins.HeatMap(nebezpeci_data, name=\"Nebezpečí\", overlay=True, control=True, radius=20,\n",
    "                                  gradient={0.2:\"#ff9999\", 0.5:\"#ff4d4d\", 0.75:\"red\"}  # Red\n",
    ")\n",
    "\n",
    "oprava_data = []\n",
    "for name in oprava:\n",
    "    for pos in locations[name]:\n",
    "        oprava_data.append(pos)\n",
    "oprava_heat_map = plugins.HeatMap(oprava_data, name=\"Potřebuje opravit\", overlay=True, control=True, radius=20,\n",
    "                                  gradient={0.2:\"#b3b3b3\", 0.5:\"#999999\", 0.75:\"#808080\"}  # Grey\n",
    ")\n",
    "\n",
    "nakupy_data = []\n",
    "for name in nakupy:\n",
    "    for pos in locations[name]:\n",
    "        nakupy_data.append(pos)\n",
    "nakupy_heat_map = plugins.HeatMap(nakupy_data, name=\"Nakupování\", overlay=True, control=True, radius=20,\n",
    "                                  gradient={0.2:\"#b3b3ff\", 0.5:\"#6666ff\", 0.75:\"#1a1aff\"} # blue\n",
    ")\n",
    "\n",
    "volny_cas_data = []\n",
    "for name in volny_cas:\n",
    "    for pos in locations[name]:\n",
    "        volny_cas_data.append(pos)\n",
    "volny_cas_heat_map = plugins.HeatMap(volny_cas_data, name=\"Trávení volného času\", overlay=True, control=True, radius=20, blur=10,\n",
    "                                  gradient={0.2:\"#80ff80\", 0.5:\"#1aff1a\", 0.75:\"#00b300\"}  # Green\n",
    ")"
   ]
  },
  {
   "cell_type": "code",
   "execution_count": 5,
   "metadata": {},
   "outputs": [],
   "source": [
    "# Map with a zoom to Holice\n",
    "map = folium.Map(location = [50.069, 15.98700], zoom_start = 15)"
   ]
  },
  {
   "cell_type": "code",
   "execution_count": 6,
   "metadata": {},
   "outputs": [
    {
     "data": {
      "text/plain": [
       "<folium.plugins.heat_map.HeatMap at 0x1ebdc738c10>"
      ]
     },
     "execution_count": 6,
     "metadata": {},
     "output_type": "execute_result"
    }
   ],
   "source": [
    "## Adding heatmaps to the main map\n",
    "nebezpeci_heat_map.add_to(map)\n",
    "oprava_heat_map.add_to(map)\n",
    "nakupy_heat_map.add_to(map)\n",
    "volny_cas_heat_map.add_to(map)"
   ]
  },
  {
   "cell_type": "code",
   "execution_count": 7,
   "metadata": {
    "scrolled": false
   },
   "outputs": [
    {
     "data": {
      "text/html": [
       "<div style=\"width:100%;\"><div style=\"position:relative;width:100%;height:0;padding-bottom:60%;\"><span style=\"color:#565656\">Make this Notebook Trusted to load map: File -> Trust Notebook</span><iframe src=\"about:blank\" style=\"position:absolute;width:100%;height:100%;left:0;top:0;border:none !important;\" data-html=%3C%21DOCTYPE%20html%3E%0A%3Chead%3E%20%20%20%20%0A%20%20%20%20%3Cmeta%20http-equiv%3D%22content-type%22%20content%3D%22text/html%3B%20charset%3DUTF-8%22%20/%3E%0A%20%20%20%20%0A%20%20%20%20%20%20%20%20%3Cscript%3E%0A%20%20%20%20%20%20%20%20%20%20%20%20L_NO_TOUCH%20%3D%20false%3B%0A%20%20%20%20%20%20%20%20%20%20%20%20L_DISABLE_3D%20%3D%20false%3B%0A%20%20%20%20%20%20%20%20%3C/script%3E%0A%20%20%20%20%0A%20%20%20%20%3Cstyle%3Ehtml%2C%20body%20%7Bwidth%3A%20100%25%3Bheight%3A%20100%25%3Bmargin%3A%200%3Bpadding%3A%200%3B%7D%3C/style%3E%0A%20%20%20%20%3Cstyle%3E%23map%20%7Bposition%3Aabsolute%3Btop%3A0%3Bbottom%3A0%3Bright%3A0%3Bleft%3A0%3B%7D%3C/style%3E%0A%20%20%20%20%3Cscript%20src%3D%22https%3A//cdn.jsdelivr.net/npm/leaflet%401.6.0/dist/leaflet.js%22%3E%3C/script%3E%0A%20%20%20%20%3Cscript%20src%3D%22https%3A//code.jquery.com/jquery-1.12.4.min.js%22%3E%3C/script%3E%0A%20%20%20%20%3Cscript%20src%3D%22https%3A//maxcdn.bootstrapcdn.com/bootstrap/3.2.0/js/bootstrap.min.js%22%3E%3C/script%3E%0A%20%20%20%20%3Cscript%20src%3D%22https%3A//cdnjs.cloudflare.com/ajax/libs/Leaflet.awesome-markers/2.0.2/leaflet.awesome-markers.js%22%3E%3C/script%3E%0A%20%20%20%20%3Clink%20rel%3D%22stylesheet%22%20href%3D%22https%3A//cdn.jsdelivr.net/npm/leaflet%401.6.0/dist/leaflet.css%22/%3E%0A%20%20%20%20%3Clink%20rel%3D%22stylesheet%22%20href%3D%22https%3A//maxcdn.bootstrapcdn.com/bootstrap/3.2.0/css/bootstrap.min.css%22/%3E%0A%20%20%20%20%3Clink%20rel%3D%22stylesheet%22%20href%3D%22https%3A//maxcdn.bootstrapcdn.com/bootstrap/3.2.0/css/bootstrap-theme.min.css%22/%3E%0A%20%20%20%20%3Clink%20rel%3D%22stylesheet%22%20href%3D%22https%3A//maxcdn.bootstrapcdn.com/font-awesome/4.6.3/css/font-awesome.min.css%22/%3E%0A%20%20%20%20%3Clink%20rel%3D%22stylesheet%22%20href%3D%22https%3A//cdnjs.cloudflare.com/ajax/libs/Leaflet.awesome-markers/2.0.2/leaflet.awesome-markers.css%22/%3E%0A%20%20%20%20%3Clink%20rel%3D%22stylesheet%22%20href%3D%22https%3A//cdn.jsdelivr.net/gh/python-visualization/folium/folium/templates/leaflet.awesome.rotate.min.css%22/%3E%0A%20%20%20%20%0A%20%20%20%20%20%20%20%20%20%20%20%20%3Cmeta%20name%3D%22viewport%22%20content%3D%22width%3Ddevice-width%2C%0A%20%20%20%20%20%20%20%20%20%20%20%20%20%20%20%20initial-scale%3D1.0%2C%20maximum-scale%3D1.0%2C%20user-scalable%3Dno%22%20/%3E%0A%20%20%20%20%20%20%20%20%20%20%20%20%3Cstyle%3E%0A%20%20%20%20%20%20%20%20%20%20%20%20%20%20%20%20%23map_b8a638b972a446bb899ec8f571d97b81%20%7B%0A%20%20%20%20%20%20%20%20%20%20%20%20%20%20%20%20%20%20%20%20position%3A%20relative%3B%0A%20%20%20%20%20%20%20%20%20%20%20%20%20%20%20%20%20%20%20%20width%3A%20100.0%25%3B%0A%20%20%20%20%20%20%20%20%20%20%20%20%20%20%20%20%20%20%20%20height%3A%20100.0%25%3B%0A%20%20%20%20%20%20%20%20%20%20%20%20%20%20%20%20%20%20%20%20left%3A%200.0%25%3B%0A%20%20%20%20%20%20%20%20%20%20%20%20%20%20%20%20%20%20%20%20top%3A%200.0%25%3B%0A%20%20%20%20%20%20%20%20%20%20%20%20%20%20%20%20%7D%0A%20%20%20%20%20%20%20%20%20%20%20%20%3C/style%3E%0A%20%20%20%20%20%20%20%20%0A%20%20%20%20%3Cscript%20src%3D%22https%3A//cdn.jsdelivr.net/gh/python-visualization/folium%40master/folium/templates/leaflet_heat.min.js%22%3E%3C/script%3E%0A%3C/head%3E%0A%3Cbody%3E%20%20%20%20%0A%20%20%20%20%0A%20%20%20%20%20%20%20%20%20%20%20%20%3Cdiv%20class%3D%22folium-map%22%20id%3D%22map_b8a638b972a446bb899ec8f571d97b81%22%20%3E%3C/div%3E%0A%20%20%20%20%20%20%20%20%0A%3C/body%3E%0A%3Cscript%3E%20%20%20%20%0A%20%20%20%20%0A%20%20%20%20%20%20%20%20%20%20%20%20var%20map_b8a638b972a446bb899ec8f571d97b81%20%3D%20L.map%28%0A%20%20%20%20%20%20%20%20%20%20%20%20%20%20%20%20%22map_b8a638b972a446bb899ec8f571d97b81%22%2C%0A%20%20%20%20%20%20%20%20%20%20%20%20%20%20%20%20%7B%0A%20%20%20%20%20%20%20%20%20%20%20%20%20%20%20%20%20%20%20%20center%3A%20%5B50.069%2C%2015.987%5D%2C%0A%20%20%20%20%20%20%20%20%20%20%20%20%20%20%20%20%20%20%20%20crs%3A%20L.CRS.EPSG3857%2C%0A%20%20%20%20%20%20%20%20%20%20%20%20%20%20%20%20%20%20%20%20zoom%3A%2015%2C%0A%20%20%20%20%20%20%20%20%20%20%20%20%20%20%20%20%20%20%20%20zoomControl%3A%20true%2C%0A%20%20%20%20%20%20%20%20%20%20%20%20%20%20%20%20%20%20%20%20preferCanvas%3A%20false%2C%0A%20%20%20%20%20%20%20%20%20%20%20%20%20%20%20%20%7D%0A%20%20%20%20%20%20%20%20%20%20%20%20%29%3B%0A%0A%20%20%20%20%20%20%20%20%20%20%20%20%0A%0A%20%20%20%20%20%20%20%20%0A%20%20%20%20%0A%20%20%20%20%20%20%20%20%20%20%20%20var%20tile_layer_7b7459ba6b5642e4adc9f537952c4f4d%20%3D%20L.tileLayer%28%0A%20%20%20%20%20%20%20%20%20%20%20%20%20%20%20%20%22https%3A//%7Bs%7D.tile.openstreetmap.org/%7Bz%7D/%7Bx%7D/%7By%7D.png%22%2C%0A%20%20%20%20%20%20%20%20%20%20%20%20%20%20%20%20%7B%22attribution%22%3A%20%22Data%20by%20%5Cu0026copy%3B%20%5Cu003ca%20href%3D%5C%22http%3A//openstreetmap.org%5C%22%5Cu003eOpenStreetMap%5Cu003c/a%5Cu003e%2C%20under%20%5Cu003ca%20href%3D%5C%22http%3A//www.openstreetmap.org/copyright%5C%22%5Cu003eODbL%5Cu003c/a%5Cu003e.%22%2C%20%22detectRetina%22%3A%20false%2C%20%22maxNativeZoom%22%3A%2018%2C%20%22maxZoom%22%3A%2018%2C%20%22minZoom%22%3A%200%2C%20%22noWrap%22%3A%20false%2C%20%22opacity%22%3A%201%2C%20%22subdomains%22%3A%20%22abc%22%2C%20%22tms%22%3A%20false%7D%0A%20%20%20%20%20%20%20%20%20%20%20%20%29.addTo%28map_b8a638b972a446bb899ec8f571d97b81%29%3B%0A%20%20%20%20%20%20%20%20%0A%20%20%20%20%0A%20%20%20%20%20%20%20%20%20%20%20%20var%20heat_map_d67e5549b63a409dbd6454942a8be09e%20%3D%20L.heatLayer%28%0A%20%20%20%20%20%20%20%20%20%20%20%20%20%20%20%20%5B%5B50.0682975%2C%2015.9867281%5D%2C%20%5B50.0684669%2C%2015.9867819%5D%2C%20%5B50.0686478%2C%2015.9867603%5D%2C%20%5B50.0749897%2C%2015.9844858%5D%2C%20%5B50.0687925%2C%2015.9863983%5D%2C%20%5B50.0682975%2C%2015.9867281%5D%2C%20%5B50.0684669%2C%2015.9867819%5D%2C%20%5B50.0686478%2C%2015.9867603%5D%2C%20%5B50.0665331%2C%2015.9799683%5D%2C%20%5B50.0668653%2C%2015.97933%5D%2C%20%5B50.0670272%2C%2015.9786219%5D%2C%20%5B50.0665331%2C%2015.9799683%5D%2C%20%5B50.0668653%2C%2015.97933%5D%2C%20%5B50.0670272%2C%2015.9786219%5D%2C%20%5B50.06885%2C%2015.9931347%5D%2C%20%5B50.0694422%2C%2015.9932956%5D%2C%20%5B50.0701033%2C%2015.9934781%5D%2C%20%5B50.0692772%2C%2015.9927061%5D%5D%2C%0A%20%20%20%20%20%20%20%20%20%20%20%20%20%20%20%20%7B%22blur%22%3A%2015%2C%20%22gradient%22%3A%20%7B%220.2%22%3A%20%22%23ff9999%22%2C%20%220.5%22%3A%20%22%23ff4d4d%22%2C%20%220.75%22%3A%20%22red%22%7D%2C%20%22maxZoom%22%3A%2018%2C%20%22minOpacity%22%3A%200.5%2C%20%22radius%22%3A%2020%7D%0A%20%20%20%20%20%20%20%20%20%20%20%20%29.addTo%28map_b8a638b972a446bb899ec8f571d97b81%29%3B%0A%20%20%20%20%20%20%20%20%0A%20%20%20%20%0A%20%20%20%20%20%20%20%20%20%20%20%20var%20heat_map_c85f477106534914913930f4ac94a054%20%3D%20L.heatLayer%28%0A%20%20%20%20%20%20%20%20%20%20%20%20%20%20%20%20%5B%5B50.0682975%2C%2015.9867281%5D%2C%20%5B50.0684669%2C%2015.9867819%5D%2C%20%5B50.0686478%2C%2015.9867603%5D%2C%20%5B50.0677692%2C%2015.986635%5D%2C%20%5B50.0678983%2C%2015.9859644%5D%2C%20%5B50.0678503%2C%2015.9862728%5D%2C%20%5B50.0682975%2C%2015.9867281%5D%2C%20%5B50.0684669%2C%2015.9867819%5D%2C%20%5B50.0686478%2C%2015.9867603%5D%2C%20%5B50.06885%2C%2015.9931347%5D%2C%20%5B50.0694422%2C%2015.9932956%5D%2C%20%5B50.0701033%2C%2015.9934781%5D%2C%20%5B50.0670022%2C%2015.9886647%5D%2C%20%5B50.0673017%2C%2015.9889008%5D%2C%20%5B50.0675428%2C%2015.9892011%5D%2C%20%5B50.0677494%2C%2015.9894694%5D%2C%20%5B50.0679767%2C%2015.9895875%5D%2C%20%5B50.0680592%2C%2015.98992%5D%2C%20%5B50.0680247%2C%2015.9901722%5D%2C%20%5B50.0679147%2C%2015.9901936%5D%2C%20%5B50.06777%2C%2015.9902581%5D%2C%20%5B50.0676667%2C%2015.990435%5D%2C%20%5B50.0675564%2C%2015.99073%5D%2C%20%5B50.0674911%2C%2015.9909875%5D%2C%20%5B50.0673911%2C%2015.9914381%5D%2C%20%5B50.0673053%2C%2015.9921678%5D%2C%20%5B50.0673258%2C%2015.9927256%5D%2C%20%5B50.0665331%2C%2015.9799683%5D%2C%20%5B50.0668653%2C%2015.97933%5D%2C%20%5B50.0670272%2C%2015.9786219%5D%2C%20%5B50.0665331%2C%2015.9799683%5D%2C%20%5B50.0668653%2C%2015.97933%5D%2C%20%5B50.0670272%2C%2015.9786219%5D%5D%2C%0A%20%20%20%20%20%20%20%20%20%20%20%20%20%20%20%20%7B%22blur%22%3A%2015%2C%20%22gradient%22%3A%20%7B%220.2%22%3A%20%22%23b3b3b3%22%2C%20%220.5%22%3A%20%22%23999999%22%2C%20%220.75%22%3A%20%22%23808080%22%7D%2C%20%22maxZoom%22%3A%2018%2C%20%22minOpacity%22%3A%200.5%2C%20%22radius%22%3A%2020%7D%0A%20%20%20%20%20%20%20%20%20%20%20%20%29.addTo%28map_b8a638b972a446bb899ec8f571d97b81%29%3B%0A%20%20%20%20%20%20%20%20%0A%20%20%20%20%0A%20%20%20%20%20%20%20%20%20%20%20%20var%20heat_map_297ec82226284e05838d013311197f29%20%3D%20L.heatLayer%28%0A%20%20%20%20%20%20%20%20%20%20%20%20%20%20%20%20%5B%5B50.0729164%2C%2015.9819406%5D%2C%20%5B50.0674197%2C%2015.9878553%5D%2C%20%5B50.0674197%2C%2015.9878553%5D%2C%20%5B50.0674197%2C%2015.9878553%5D%2C%20%5B50.0729164%2C%2015.9819406%5D%2C%20%5B50.07352%2C%2015.9832278%5D%2C%20%5B50.068851%2C%2015.9872742%5D%2C%20%5B50.0729164%2C%2015.9819406%5D%2C%20%5B50.0729164%2C%2015.9819406%5D%2C%20%5B50.07352%2C%2015.9832278%5D%2C%20%5B50.0681739%2C%2015.9881142%5D%5D%2C%0A%20%20%20%20%20%20%20%20%20%20%20%20%20%20%20%20%7B%22blur%22%3A%2015%2C%20%22gradient%22%3A%20%7B%220.2%22%3A%20%22%23b3b3ff%22%2C%20%220.5%22%3A%20%22%236666ff%22%2C%20%220.75%22%3A%20%22%231a1aff%22%7D%2C%20%22maxZoom%22%3A%2018%2C%20%22minOpacity%22%3A%200.5%2C%20%22radius%22%3A%2020%7D%0A%20%20%20%20%20%20%20%20%20%20%20%20%29.addTo%28map_b8a638b972a446bb899ec8f571d97b81%29%3B%0A%20%20%20%20%20%20%20%20%0A%20%20%20%20%0A%20%20%20%20%20%20%20%20%20%20%20%20var%20heat_map_e6daa882e95642de926a3ea69f717f61%20%3D%20L.heatLayer%28%0A%20%20%20%20%20%20%20%20%20%20%20%20%20%20%20%20%5B%5B50.0709867%2C%2015.9890411%5D%2C%20%5B50.0628383%2C%2015.9884611%5D%2C%20%5B50.0684475%2C%2015.9855917%5D%2C%20%5B50.0704839%2C%2015.9888958%5D%2C%20%5B50.0673892%2C%2015.9869533%5D%2C%20%5B50.0681739%2C%2015.9881142%5D%2C%20%5B50.0745314%2C%2015.9918478%5D%2C%20%5B50.0687942%2C%2016.0004731%5D%2C%20%5B50.0673892%2C%2015.9869533%5D%2C%20%5B50.0704839%2C%2015.9888958%5D%2C%20%5B50.0687942%2C%2016.0004731%5D%2C%20%5B50.0634658%2C%2015.9836697%5D%5D%2C%0A%20%20%20%20%20%20%20%20%20%20%20%20%20%20%20%20%7B%22blur%22%3A%2010%2C%20%22gradient%22%3A%20%7B%220.2%22%3A%20%22%2380ff80%22%2C%20%220.5%22%3A%20%22%231aff1a%22%2C%20%220.75%22%3A%20%22%2300b300%22%7D%2C%20%22maxZoom%22%3A%2018%2C%20%22minOpacity%22%3A%200.5%2C%20%22radius%22%3A%2020%7D%0A%20%20%20%20%20%20%20%20%20%20%20%20%29.addTo%28map_b8a638b972a446bb899ec8f571d97b81%29%3B%0A%20%20%20%20%20%20%20%20%0A%20%20%20%20%0A%20%20%20%20%20%20%20%20%20%20%20%20var%20layer_control_19916689381c4e4bb3ae019d7197a24e%20%3D%20%7B%0A%20%20%20%20%20%20%20%20%20%20%20%20%20%20%20%20base_layers%20%3A%20%7B%0A%20%20%20%20%20%20%20%20%20%20%20%20%20%20%20%20%20%20%20%20%22openstreetmap%22%20%3A%20tile_layer_7b7459ba6b5642e4adc9f537952c4f4d%2C%0A%20%20%20%20%20%20%20%20%20%20%20%20%20%20%20%20%7D%2C%0A%20%20%20%20%20%20%20%20%20%20%20%20%20%20%20%20overlays%20%3A%20%20%7B%0A%20%20%20%20%20%20%20%20%20%20%20%20%20%20%20%20%20%20%20%20%22Nebezpe%5Cu010d%5Cu00ed%22%20%3A%20heat_map_d67e5549b63a409dbd6454942a8be09e%2C%0A%20%20%20%20%20%20%20%20%20%20%20%20%20%20%20%20%20%20%20%20%22Pot%5Cu0159ebuje%20opravit%22%20%3A%20heat_map_c85f477106534914913930f4ac94a054%2C%0A%20%20%20%20%20%20%20%20%20%20%20%20%20%20%20%20%20%20%20%20%22Nakupov%5Cu00e1n%5Cu00ed%22%20%3A%20heat_map_297ec82226284e05838d013311197f29%2C%0A%20%20%20%20%20%20%20%20%20%20%20%20%20%20%20%20%20%20%20%20%22Tr%5Cu00e1ven%5Cu00ed%20voln%5Cu00e9ho%20%5Cu010dasu%22%20%3A%20heat_map_e6daa882e95642de926a3ea69f717f61%2C%0A%20%20%20%20%20%20%20%20%20%20%20%20%20%20%20%20%7D%2C%0A%20%20%20%20%20%20%20%20%20%20%20%20%7D%3B%0A%20%20%20%20%20%20%20%20%20%20%20%20L.control.layers%28%0A%20%20%20%20%20%20%20%20%20%20%20%20%20%20%20%20layer_control_19916689381c4e4bb3ae019d7197a24e.base_layers%2C%0A%20%20%20%20%20%20%20%20%20%20%20%20%20%20%20%20layer_control_19916689381c4e4bb3ae019d7197a24e.overlays%2C%0A%20%20%20%20%20%20%20%20%20%20%20%20%20%20%20%20%7B%22autoZIndex%22%3A%20true%2C%20%22collapsed%22%3A%20true%2C%20%22position%22%3A%20%22topright%22%7D%0A%20%20%20%20%20%20%20%20%20%20%20%20%29.addTo%28map_b8a638b972a446bb899ec8f571d97b81%29%3B%0A%20%20%20%20%20%20%20%20%0A%3C/script%3E onload=\"this.contentDocument.open();this.contentDocument.write(    decodeURIComponent(this.getAttribute('data-html')));this.contentDocument.close();\" allowfullscreen webkitallowfullscreen mozallowfullscreen></iframe></div></div>"
      ],
      "text/plain": [
       "<folium.folium.Map at 0x1ebdc708730>"
      ]
     },
     "execution_count": 7,
     "metadata": {},
     "output_type": "execute_result"
    }
   ],
   "source": [
    "folium.LayerControl().add_to(map)\n",
    "map.save(\"mapa.html\")\n",
    "map"
   ]
  },
  {
   "cell_type": "code",
   "execution_count": 8,
   "metadata": {
    "scrolled": false
   },
   "outputs": [
    {
     "data": {
      "text/html": [
       "<div style=\"width:100%;\"><div style=\"position:relative;width:100%;height:0;padding-bottom:60%;\"><span style=\"color:#565656\">Make this Notebook Trusted to load map: File -> Trust Notebook</span><iframe src=\"about:blank\" style=\"position:absolute;width:100%;height:100%;left:0;top:0;border:none !important;\" data-html=%3C%21DOCTYPE%20html%3E%0A%3Chead%3E%20%20%20%20%0A%20%20%20%20%3Cmeta%20http-equiv%3D%22content-type%22%20content%3D%22text/html%3B%20charset%3DUTF-8%22%20/%3E%0A%20%20%20%20%0A%20%20%20%20%20%20%20%20%3Cscript%3E%0A%20%20%20%20%20%20%20%20%20%20%20%20L_NO_TOUCH%20%3D%20false%3B%0A%20%20%20%20%20%20%20%20%20%20%20%20L_DISABLE_3D%20%3D%20false%3B%0A%20%20%20%20%20%20%20%20%3C/script%3E%0A%20%20%20%20%0A%20%20%20%20%3Cstyle%3Ehtml%2C%20body%20%7Bwidth%3A%20100%25%3Bheight%3A%20100%25%3Bmargin%3A%200%3Bpadding%3A%200%3B%7D%3C/style%3E%0A%20%20%20%20%3Cstyle%3E%23map%20%7Bposition%3Aabsolute%3Btop%3A0%3Bbottom%3A0%3Bright%3A0%3Bleft%3A0%3B%7D%3C/style%3E%0A%20%20%20%20%3Cscript%20src%3D%22https%3A//cdn.jsdelivr.net/npm/leaflet%401.6.0/dist/leaflet.js%22%3E%3C/script%3E%0A%20%20%20%20%3Cscript%20src%3D%22https%3A//code.jquery.com/jquery-1.12.4.min.js%22%3E%3C/script%3E%0A%20%20%20%20%3Cscript%20src%3D%22https%3A//maxcdn.bootstrapcdn.com/bootstrap/3.2.0/js/bootstrap.min.js%22%3E%3C/script%3E%0A%20%20%20%20%3Cscript%20src%3D%22https%3A//cdnjs.cloudflare.com/ajax/libs/Leaflet.awesome-markers/2.0.2/leaflet.awesome-markers.js%22%3E%3C/script%3E%0A%20%20%20%20%3Clink%20rel%3D%22stylesheet%22%20href%3D%22https%3A//cdn.jsdelivr.net/npm/leaflet%401.6.0/dist/leaflet.css%22/%3E%0A%20%20%20%20%3Clink%20rel%3D%22stylesheet%22%20href%3D%22https%3A//maxcdn.bootstrapcdn.com/bootstrap/3.2.0/css/bootstrap.min.css%22/%3E%0A%20%20%20%20%3Clink%20rel%3D%22stylesheet%22%20href%3D%22https%3A//maxcdn.bootstrapcdn.com/bootstrap/3.2.0/css/bootstrap-theme.min.css%22/%3E%0A%20%20%20%20%3Clink%20rel%3D%22stylesheet%22%20href%3D%22https%3A//maxcdn.bootstrapcdn.com/font-awesome/4.6.3/css/font-awesome.min.css%22/%3E%0A%20%20%20%20%3Clink%20rel%3D%22stylesheet%22%20href%3D%22https%3A//cdnjs.cloudflare.com/ajax/libs/Leaflet.awesome-markers/2.0.2/leaflet.awesome-markers.css%22/%3E%0A%20%20%20%20%3Clink%20rel%3D%22stylesheet%22%20href%3D%22https%3A//cdn.jsdelivr.net/gh/python-visualization/folium/folium/templates/leaflet.awesome.rotate.min.css%22/%3E%0A%20%20%20%20%0A%20%20%20%20%20%20%20%20%20%20%20%20%3Cmeta%20name%3D%22viewport%22%20content%3D%22width%3Ddevice-width%2C%0A%20%20%20%20%20%20%20%20%20%20%20%20%20%20%20%20initial-scale%3D1.0%2C%20maximum-scale%3D1.0%2C%20user-scalable%3Dno%22%20/%3E%0A%20%20%20%20%20%20%20%20%20%20%20%20%3Cstyle%3E%0A%20%20%20%20%20%20%20%20%20%20%20%20%20%20%20%20%23map_b8a638b972a446bb899ec8f571d97b81%20%7B%0A%20%20%20%20%20%20%20%20%20%20%20%20%20%20%20%20%20%20%20%20position%3A%20relative%3B%0A%20%20%20%20%20%20%20%20%20%20%20%20%20%20%20%20%20%20%20%20width%3A%20100.0%25%3B%0A%20%20%20%20%20%20%20%20%20%20%20%20%20%20%20%20%20%20%20%20height%3A%20100.0%25%3B%0A%20%20%20%20%20%20%20%20%20%20%20%20%20%20%20%20%20%20%20%20left%3A%200.0%25%3B%0A%20%20%20%20%20%20%20%20%20%20%20%20%20%20%20%20%20%20%20%20top%3A%200.0%25%3B%0A%20%20%20%20%20%20%20%20%20%20%20%20%20%20%20%20%7D%0A%20%20%20%20%20%20%20%20%20%20%20%20%3C/style%3E%0A%20%20%20%20%20%20%20%20%0A%20%20%20%20%3Cscript%20src%3D%22https%3A//cdn.jsdelivr.net/gh/python-visualization/folium%40master/folium/templates/leaflet_heat.min.js%22%3E%3C/script%3E%0A%3C/head%3E%0A%3Cbody%3E%20%20%20%20%0A%20%20%20%20%0A%20%20%20%20%20%20%20%20%20%20%20%20%3Cdiv%20class%3D%22folium-map%22%20id%3D%22map_b8a638b972a446bb899ec8f571d97b81%22%20%3E%3C/div%3E%0A%20%20%20%20%20%20%20%20%0A%3C/body%3E%0A%3Cscript%3E%20%20%20%20%0A%20%20%20%20%0A%20%20%20%20%20%20%20%20%20%20%20%20var%20map_b8a638b972a446bb899ec8f571d97b81%20%3D%20L.map%28%0A%20%20%20%20%20%20%20%20%20%20%20%20%20%20%20%20%22map_b8a638b972a446bb899ec8f571d97b81%22%2C%0A%20%20%20%20%20%20%20%20%20%20%20%20%20%20%20%20%7B%0A%20%20%20%20%20%20%20%20%20%20%20%20%20%20%20%20%20%20%20%20center%3A%20%5B50.069%2C%2015.987%5D%2C%0A%20%20%20%20%20%20%20%20%20%20%20%20%20%20%20%20%20%20%20%20crs%3A%20L.CRS.EPSG3857%2C%0A%20%20%20%20%20%20%20%20%20%20%20%20%20%20%20%20%20%20%20%20zoom%3A%2015%2C%0A%20%20%20%20%20%20%20%20%20%20%20%20%20%20%20%20%20%20%20%20zoomControl%3A%20true%2C%0A%20%20%20%20%20%20%20%20%20%20%20%20%20%20%20%20%20%20%20%20preferCanvas%3A%20false%2C%0A%20%20%20%20%20%20%20%20%20%20%20%20%20%20%20%20%7D%0A%20%20%20%20%20%20%20%20%20%20%20%20%29%3B%0A%0A%20%20%20%20%20%20%20%20%20%20%20%20%0A%0A%20%20%20%20%20%20%20%20%0A%20%20%20%20%0A%20%20%20%20%20%20%20%20%20%20%20%20var%20tile_layer_7b7459ba6b5642e4adc9f537952c4f4d%20%3D%20L.tileLayer%28%0A%20%20%20%20%20%20%20%20%20%20%20%20%20%20%20%20%22https%3A//%7Bs%7D.tile.openstreetmap.org/%7Bz%7D/%7Bx%7D/%7By%7D.png%22%2C%0A%20%20%20%20%20%20%20%20%20%20%20%20%20%20%20%20%7B%22attribution%22%3A%20%22Data%20by%20%5Cu0026copy%3B%20%5Cu003ca%20href%3D%5C%22http%3A//openstreetmap.org%5C%22%5Cu003eOpenStreetMap%5Cu003c/a%5Cu003e%2C%20under%20%5Cu003ca%20href%3D%5C%22http%3A//www.openstreetmap.org/copyright%5C%22%5Cu003eODbL%5Cu003c/a%5Cu003e.%22%2C%20%22detectRetina%22%3A%20false%2C%20%22maxNativeZoom%22%3A%2018%2C%20%22maxZoom%22%3A%2018%2C%20%22minZoom%22%3A%200%2C%20%22noWrap%22%3A%20false%2C%20%22opacity%22%3A%201%2C%20%22subdomains%22%3A%20%22abc%22%2C%20%22tms%22%3A%20false%7D%0A%20%20%20%20%20%20%20%20%20%20%20%20%29.addTo%28map_b8a638b972a446bb899ec8f571d97b81%29%3B%0A%20%20%20%20%20%20%20%20%0A%20%20%20%20%0A%20%20%20%20%20%20%20%20%20%20%20%20var%20heat_map_d67e5549b63a409dbd6454942a8be09e%20%3D%20L.heatLayer%28%0A%20%20%20%20%20%20%20%20%20%20%20%20%20%20%20%20%5B%5B50.0682975%2C%2015.9867281%5D%2C%20%5B50.0684669%2C%2015.9867819%5D%2C%20%5B50.0686478%2C%2015.9867603%5D%2C%20%5B50.0749897%2C%2015.9844858%5D%2C%20%5B50.0687925%2C%2015.9863983%5D%2C%20%5B50.0682975%2C%2015.9867281%5D%2C%20%5B50.0684669%2C%2015.9867819%5D%2C%20%5B50.0686478%2C%2015.9867603%5D%2C%20%5B50.0665331%2C%2015.9799683%5D%2C%20%5B50.0668653%2C%2015.97933%5D%2C%20%5B50.0670272%2C%2015.9786219%5D%2C%20%5B50.0665331%2C%2015.9799683%5D%2C%20%5B50.0668653%2C%2015.97933%5D%2C%20%5B50.0670272%2C%2015.9786219%5D%2C%20%5B50.06885%2C%2015.9931347%5D%2C%20%5B50.0694422%2C%2015.9932956%5D%2C%20%5B50.0701033%2C%2015.9934781%5D%2C%20%5B50.0692772%2C%2015.9927061%5D%5D%2C%0A%20%20%20%20%20%20%20%20%20%20%20%20%20%20%20%20%7B%22blur%22%3A%2015%2C%20%22gradient%22%3A%20%7B%220.2%22%3A%20%22%23ff9999%22%2C%20%220.5%22%3A%20%22%23ff4d4d%22%2C%20%220.75%22%3A%20%22red%22%7D%2C%20%22maxZoom%22%3A%2018%2C%20%22minOpacity%22%3A%200.5%2C%20%22radius%22%3A%2020%7D%0A%20%20%20%20%20%20%20%20%20%20%20%20%29.addTo%28map_b8a638b972a446bb899ec8f571d97b81%29%3B%0A%20%20%20%20%20%20%20%20%0A%20%20%20%20%0A%20%20%20%20%20%20%20%20%20%20%20%20var%20heat_map_c85f477106534914913930f4ac94a054%20%3D%20L.heatLayer%28%0A%20%20%20%20%20%20%20%20%20%20%20%20%20%20%20%20%5B%5B50.0682975%2C%2015.9867281%5D%2C%20%5B50.0684669%2C%2015.9867819%5D%2C%20%5B50.0686478%2C%2015.9867603%5D%2C%20%5B50.0677692%2C%2015.986635%5D%2C%20%5B50.0678983%2C%2015.9859644%5D%2C%20%5B50.0678503%2C%2015.9862728%5D%2C%20%5B50.0682975%2C%2015.9867281%5D%2C%20%5B50.0684669%2C%2015.9867819%5D%2C%20%5B50.0686478%2C%2015.9867603%5D%2C%20%5B50.06885%2C%2015.9931347%5D%2C%20%5B50.0694422%2C%2015.9932956%5D%2C%20%5B50.0701033%2C%2015.9934781%5D%2C%20%5B50.0670022%2C%2015.9886647%5D%2C%20%5B50.0673017%2C%2015.9889008%5D%2C%20%5B50.0675428%2C%2015.9892011%5D%2C%20%5B50.0677494%2C%2015.9894694%5D%2C%20%5B50.0679767%2C%2015.9895875%5D%2C%20%5B50.0680592%2C%2015.98992%5D%2C%20%5B50.0680247%2C%2015.9901722%5D%2C%20%5B50.0679147%2C%2015.9901936%5D%2C%20%5B50.06777%2C%2015.9902581%5D%2C%20%5B50.0676667%2C%2015.990435%5D%2C%20%5B50.0675564%2C%2015.99073%5D%2C%20%5B50.0674911%2C%2015.9909875%5D%2C%20%5B50.0673911%2C%2015.9914381%5D%2C%20%5B50.0673053%2C%2015.9921678%5D%2C%20%5B50.0673258%2C%2015.9927256%5D%2C%20%5B50.0665331%2C%2015.9799683%5D%2C%20%5B50.0668653%2C%2015.97933%5D%2C%20%5B50.0670272%2C%2015.9786219%5D%2C%20%5B50.0665331%2C%2015.9799683%5D%2C%20%5B50.0668653%2C%2015.97933%5D%2C%20%5B50.0670272%2C%2015.9786219%5D%5D%2C%0A%20%20%20%20%20%20%20%20%20%20%20%20%20%20%20%20%7B%22blur%22%3A%2015%2C%20%22gradient%22%3A%20%7B%220.2%22%3A%20%22%23b3b3b3%22%2C%20%220.5%22%3A%20%22%23999999%22%2C%20%220.75%22%3A%20%22%23808080%22%7D%2C%20%22maxZoom%22%3A%2018%2C%20%22minOpacity%22%3A%200.5%2C%20%22radius%22%3A%2020%7D%0A%20%20%20%20%20%20%20%20%20%20%20%20%29.addTo%28map_b8a638b972a446bb899ec8f571d97b81%29%3B%0A%20%20%20%20%20%20%20%20%0A%20%20%20%20%0A%20%20%20%20%20%20%20%20%20%20%20%20var%20heat_map_297ec82226284e05838d013311197f29%20%3D%20L.heatLayer%28%0A%20%20%20%20%20%20%20%20%20%20%20%20%20%20%20%20%5B%5B50.0729164%2C%2015.9819406%5D%2C%20%5B50.0674197%2C%2015.9878553%5D%2C%20%5B50.0674197%2C%2015.9878553%5D%2C%20%5B50.0674197%2C%2015.9878553%5D%2C%20%5B50.0729164%2C%2015.9819406%5D%2C%20%5B50.07352%2C%2015.9832278%5D%2C%20%5B50.068851%2C%2015.9872742%5D%2C%20%5B50.0729164%2C%2015.9819406%5D%2C%20%5B50.0729164%2C%2015.9819406%5D%2C%20%5B50.07352%2C%2015.9832278%5D%2C%20%5B50.0681739%2C%2015.9881142%5D%5D%2C%0A%20%20%20%20%20%20%20%20%20%20%20%20%20%20%20%20%7B%22blur%22%3A%2015%2C%20%22gradient%22%3A%20%7B%220.2%22%3A%20%22%23b3b3ff%22%2C%20%220.5%22%3A%20%22%236666ff%22%2C%20%220.75%22%3A%20%22%231a1aff%22%7D%2C%20%22maxZoom%22%3A%2018%2C%20%22minOpacity%22%3A%200.5%2C%20%22radius%22%3A%2020%7D%0A%20%20%20%20%20%20%20%20%20%20%20%20%29.addTo%28map_b8a638b972a446bb899ec8f571d97b81%29%3B%0A%20%20%20%20%20%20%20%20%0A%20%20%20%20%0A%20%20%20%20%20%20%20%20%20%20%20%20var%20heat_map_e6daa882e95642de926a3ea69f717f61%20%3D%20L.heatLayer%28%0A%20%20%20%20%20%20%20%20%20%20%20%20%20%20%20%20%5B%5B50.0709867%2C%2015.9890411%5D%2C%20%5B50.0628383%2C%2015.9884611%5D%2C%20%5B50.0684475%2C%2015.9855917%5D%2C%20%5B50.0704839%2C%2015.9888958%5D%2C%20%5B50.0673892%2C%2015.9869533%5D%2C%20%5B50.0681739%2C%2015.9881142%5D%2C%20%5B50.0745314%2C%2015.9918478%5D%2C%20%5B50.0687942%2C%2016.0004731%5D%2C%20%5B50.0673892%2C%2015.9869533%5D%2C%20%5B50.0704839%2C%2015.9888958%5D%2C%20%5B50.0687942%2C%2016.0004731%5D%2C%20%5B50.0634658%2C%2015.9836697%5D%5D%2C%0A%20%20%20%20%20%20%20%20%20%20%20%20%20%20%20%20%7B%22blur%22%3A%2010%2C%20%22gradient%22%3A%20%7B%220.2%22%3A%20%22%2380ff80%22%2C%20%220.5%22%3A%20%22%231aff1a%22%2C%20%220.75%22%3A%20%22%2300b300%22%7D%2C%20%22maxZoom%22%3A%2018%2C%20%22minOpacity%22%3A%200.5%2C%20%22radius%22%3A%2020%7D%0A%20%20%20%20%20%20%20%20%20%20%20%20%29.addTo%28map_b8a638b972a446bb899ec8f571d97b81%29%3B%0A%20%20%20%20%20%20%20%20%0A%20%20%20%20%0A%20%20%20%20%20%20%20%20%20%20%20%20var%20layer_control_19916689381c4e4bb3ae019d7197a24e%20%3D%20%7B%0A%20%20%20%20%20%20%20%20%20%20%20%20%20%20%20%20base_layers%20%3A%20%7B%0A%20%20%20%20%20%20%20%20%20%20%20%20%20%20%20%20%20%20%20%20%22openstreetmap%22%20%3A%20tile_layer_7b7459ba6b5642e4adc9f537952c4f4d%2C%0A%20%20%20%20%20%20%20%20%20%20%20%20%20%20%20%20%7D%2C%0A%20%20%20%20%20%20%20%20%20%20%20%20%20%20%20%20overlays%20%3A%20%20%7B%0A%20%20%20%20%20%20%20%20%20%20%20%20%20%20%20%20%20%20%20%20%22Nebezpe%5Cu010d%5Cu00ed%22%20%3A%20heat_map_d67e5549b63a409dbd6454942a8be09e%2C%0A%20%20%20%20%20%20%20%20%20%20%20%20%20%20%20%20%20%20%20%20%22Pot%5Cu0159ebuje%20opravit%22%20%3A%20heat_map_c85f477106534914913930f4ac94a054%2C%0A%20%20%20%20%20%20%20%20%20%20%20%20%20%20%20%20%20%20%20%20%22Nakupov%5Cu00e1n%5Cu00ed%22%20%3A%20heat_map_297ec82226284e05838d013311197f29%2C%0A%20%20%20%20%20%20%20%20%20%20%20%20%20%20%20%20%20%20%20%20%22Tr%5Cu00e1ven%5Cu00ed%20voln%5Cu00e9ho%20%5Cu010dasu%22%20%3A%20heat_map_e6daa882e95642de926a3ea69f717f61%2C%0A%20%20%20%20%20%20%20%20%20%20%20%20%20%20%20%20%7D%2C%0A%20%20%20%20%20%20%20%20%20%20%20%20%7D%3B%0A%20%20%20%20%20%20%20%20%20%20%20%20L.control.layers%28%0A%20%20%20%20%20%20%20%20%20%20%20%20%20%20%20%20layer_control_19916689381c4e4bb3ae019d7197a24e.base_layers%2C%0A%20%20%20%20%20%20%20%20%20%20%20%20%20%20%20%20layer_control_19916689381c4e4bb3ae019d7197a24e.overlays%2C%0A%20%20%20%20%20%20%20%20%20%20%20%20%20%20%20%20%7B%22autoZIndex%22%3A%20true%2C%20%22collapsed%22%3A%20true%2C%20%22position%22%3A%20%22topright%22%7D%0A%20%20%20%20%20%20%20%20%20%20%20%20%29.addTo%28map_b8a638b972a446bb899ec8f571d97b81%29%3B%0A%20%20%20%20%20%20%20%20%0A%3C/script%3E onload=\"this.contentDocument.open();this.contentDocument.write(    decodeURIComponent(this.getAttribute('data-html')));this.contentDocument.close();\" allowfullscreen webkitallowfullscreen mozallowfullscreen></iframe></div></div>"
      ],
      "text/plain": [
       "<folium.folium.Map at 0x1ebdc708730>"
      ]
     },
     "execution_count": 8,
     "metadata": {},
     "output_type": "execute_result"
    }
   ],
   "source": [
    "map"
   ]
  }
 ],
 "metadata": {
  "kernelspec": {
   "display_name": "Python 3",
   "language": "python",
   "name": "python3"
  },
  "language_info": {
   "codemirror_mode": {
    "name": "ipython",
    "version": 3
   },
   "file_extension": ".py",
   "mimetype": "text/x-python",
   "name": "python",
   "nbconvert_exporter": "python",
   "pygments_lexer": "ipython3",
   "version": "3.9.1"
  }
 },
 "nbformat": 4,
 "nbformat_minor": 4
}
